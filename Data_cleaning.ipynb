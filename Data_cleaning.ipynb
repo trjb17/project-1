{
 "cells": [
  {
   "cell_type": "code",
   "execution_count": 2,
   "metadata": {},
   "outputs": [],
   "source": [
    "import pandas as pd\n",
    "# Read each tab into separate DataFrames\n",
    "df1 = pd.read_excel('output_data/Project_Data.xlsx', sheet_name='Demo', dtype={'Other ID': str})\n",
    "df2 = pd.read_excel('output_data/Project_Data.xlsx', sheet_name='Eco Disadvantage and Income', dtype={'Other ID': str})\n",
    "df3 = pd.read_excel('output_data/Project_Data.xlsx', sheet_name='Credits and Term', dtype={'Other ID': str})\n",
    "df4 = pd.read_excel('output_data/Project_Data.xlsx', sheet_name='Graduates', dtype={'Other ID': str})\n",
    "df5 = pd.read_excel('output_data/Project_Data.xlsx', sheet_name='Withdrawal Dates', dtype={'Other ID': str})\n",
    "# Ensure 'Other ID' column is treated as string to preserve leading zeros\n",
    "for df in [df1, df2, df3, df4, df5]:\n",
    "    df['Other ID'] = df['Other ID'].astype(str)\n",
    "# Merge the DataFrames based on the 'Other ID' column\n",
    "combined_df = df1.merge(df2, on='Other ID', how='outer')\n",
    "combined_df = combined_df.merge(df3, on='Other ID', how='outer')\n",
    "combined_df = combined_df.merge(df4, on='Other ID', how='outer')\n",
    "combined_df = combined_df.merge(df5, on='Other ID', how='outer')\n",
    "# Export the combined DataFrame to a new Excel file\n",
    "#combined_df.to_excel('combined_data.xlsx', index=False)\n"
   ]
  },
  {
   "cell_type": "code",
   "execution_count": 10,
   "metadata": {},
   "outputs": [],
   "source": [
    "\n",
    "combined_df.rename(columns={'Ent_x': 'School',\n",
    "                            'Cal Code_x': 'Student Type',\n",
    "                            'Schl Yr': 'School Year',\n",
    "                            'Other ID': 'ID',\n",
    "                            'DOB': 'Date of Birth',\n",
    "                           'Student Language Description': 'Student Language',\n",
    "                            'Withdrawal Date_x': 'Graduate Withdrawal Date',\n",
    "                            'Withdrw': 'Graduated',\n",
    "                            'Withdrawal Comment' : 'Drop Out Withdraw Reason',\n",
    "                            'Ent': 'Graduate Campus',\n",
    "                            'Cal Code_y': 'Graduate Student Type',\n",
    "                            'Grad Date_y': 'Graduate Date',\n",
    "                            'Withdrawal Date_y': 'Drop Out Date',\n",
    "                            'Drop Out Withdraw Date': 'Graduate Status',\n",
    "                            'Entity': 'Credit Earned Campus'\n",
    "                           }, inplace=True)\n",
    "#delete columns not needed\n",
    "#combined_df.drop(columns=['Age', 'Ent_y', 'Cat'], inplace=True)"
   ]
  },
  {
   "cell_type": "code",
   "execution_count": 11,
   "metadata": {},
   "outputs": [],
   "source": [
    "# Define a dictionary to map values in school to their corresponding labels\n",
    "mapping = {\n",
    "        1: 'Norwood',\n",
    "        2: 'Coleman',\n",
    "        3: 'South Austin',\n",
    "        4: 'Billy Moore',\n",
    "        5: 'Bradshaw',\n",
    "        6: 'AYW',\n",
    "        7: 'Diboll',\n",
    "        8: 'Connally',\n",
    "        800: 'Alumni',\n",
    "       }\n",
    "# Replace values in column A using the mapping dictionary\n",
    "combined_df['School'] = combined_df['School'].replace(mapping)\n",
    "# Replace values in column A using the mapping dictionary\n",
    "combined_df['Graduate Campus'] = combined_df['Graduate Campus'].replace(mapping)\n",
    "# Replace values in column A using the mapping dictionary\n",
    "combined_df['Credit Earned Campus'] = combined_df['Credit Earned Campus'].replace(mapping)\n"
   ]
  },
  {
   "cell_type": "code",
   "execution_count": 12,
   "metadata": {},
   "outputs": [],
   "source": [
    "# Define a dictionary to map values in school to their corresponding labels\n",
    "mapping = {\n",
    "        1: 'Day Student',\n",
    "        2: 'Day Student',\n",
    "        3: 'Night Student',\n",
    "        4: 'Day Student',\n",
    "        5: 'Day Student',\n",
    "        6: 'Day Student',\n",
    "        7: 'Day Student',\n",
    "        8: 'Day Student',\n",
    "        '001': 'Day Student',\n",
    "        '002': 'Day Student',\n",
    "        '003': 'Night Student',\n",
    "        '004': 'Day Student',\n",
    "        '005': 'Day Student',\n",
    "        '006': 'Day Student',\n",
    "        '007': 'Day Student',\n",
    "        '008': 'Day Student',\n",
    "        '107': 'Day Student',\n",
    "        '126': 'Day Student',\n",
    "        800: 'Graduate',\n",
    "        '800': 'Graduate',\n",
    "        'I01': 'Online Student',\n",
    "        'I26': 'Online Student',\n",
    "        'N01': 'Night Student',\n",
    "        'N03': 'Night Student',\n",
    "        'N26': 'Night Student',\n",
    "        'O26': 'Day Student'\n",
    "       }\n",
    "# Replace values in student type column using the mapping dictionary\n",
    "combined_df['Student Type'] = combined_df['Student Type'].replace(mapping)\n",
    "# Replace values in graduate student type using the mapping dictionary\n",
    "combined_df['Graduate Student Type'] = combined_df['Graduate Student Type'].replace(mapping)\n",
    "# Display the updated DataFrame\n"
   ]
  },
  {
   "cell_type": "code",
   "execution_count": 13,
   "metadata": {},
   "outputs": [],
   "source": [
    "# recode values in graduated column, 1 to graduate\n",
    "mapping = {\n",
    "        \"1.0\": 'Graduate',\n",
    "        'nan': 'Dropped Out',\n",
    "       }\n",
    "# Convert the 'Graduate Status' column to string type\n",
    "combined_df['Drop Out Date'] = combined_df['Drop Out Date'].astype(str)\n",
    "# Replace values in column A using the mapping dictionary\n",
    "combined_df['Drop Out Date'] = combined_df['Drop Out Date'].replace(mapping)\n",
    "# Display the updated DataFrame\n"
   ]
  },
  {
   "cell_type": "code",
   "execution_count": 14,
   "metadata": {},
   "outputs": [],
   "source": [
    "# Define a mapping dictionary based on the categories and discussion\n",
    "mapping_dict = {\n",
    "    r\".*(No Show|NO Show|Student|Non-attender|No contact|No show|NO CONTACT|10+|T4|T5|Term1|Term 1B|Unable to|Term 2|Term 3|Term 4|Term 5|TERM 6|T6|Personal|T2|T3|NS|SY 21-22 T3 No|missed days|Auto WD|No Contact|10+|No longer interested|No-Show|No Contact|Term 4|No Longer|22-23 T4 NOSHOW|Attendance).*\": \"No Show\",    r\".*Child Care.*|.*Child care.*|.*Childcare.*|.*Needed childcare.*|.*No Childcare.*\": \"Child Care\",\n",
    "    r\".*(Health|Pregnancy|Hospital|Medical|Baby|Caregiver|Delivered|Delivery|Family Issues|Medial).*\": \"Health\",\n",
    "    r\".*(Transfer|Moving|Persuing|Purse|Withdrew|3/21/17 Enrolled|Enrolled|GED|New employment).*\": \"Education Transfer\",\n",
    "    r\".*(Behavioral|Contract|Discipline|Code of Conduct|Expelled).*\": \"Behavioral and Contract Issues\",\n",
    "    r\".*(Transportation|Moved|Amarillo|Moving Out).*\": \"Transportation\",\n",
    "    r\".*(Financial|Homelessness|Housing).*\": \"Financial\",\n",
    "    r\".*Employment.*\": \"Employment\",\n",
    "    r\".*(Deported|Diggs|Released|Paroled|Incarcerated|Legal|No longer on).*\": \"Other\"\n",
    "}\n",
    "# Replace the reasons in the 'Drop Out Withdraw Reason' column according to the mapping dictionary\n",
    "combined_df['Drop Out Withdraw Reason'] = combined_df['Drop Out Withdraw Reason'].replace(mapping_dict, regex=True)"
   ]
  },
  {
   "cell_type": "code",
   "execution_count": null,
   "metadata": {},
   "outputs": [],
   "source": []
  }
 ],
 "metadata": {
  "kernelspec": {
   "display_name": "base",
   "language": "python",
   "name": "python3"
  },
  "language_info": {
   "codemirror_mode": {
    "name": "ipython",
    "version": 3
   },
   "file_extension": ".py",
   "mimetype": "text/x-python",
   "name": "python",
   "nbconvert_exporter": "python",
   "pygments_lexer": "ipython3",
   "version": "3.11.7"
  }
 },
 "nbformat": 4,
 "nbformat_minor": 2
}
